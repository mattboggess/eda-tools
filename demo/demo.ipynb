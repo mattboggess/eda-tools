{
 "cells": [
  {
   "cell_type": "code",
   "execution_count": 1,
   "metadata": {},
   "outputs": [],
   "source": [
    "import pandas as pd\n",
    "import seaborn as sns\n",
    "from intedact import univariate_eda_interact, bivariate_eda_interact"
   ]
  },
  {
   "cell_type": "markdown",
   "metadata": {},
   "source": [
    "# Example 1: Seaborn Tips Dataset"
   ]
  },
  {
   "cell_type": "code",
   "execution_count": 2,
   "metadata": {},
   "outputs": [
    {
     "data": {
      "text/html": [
       "<div>\n",
       "<style scoped>\n",
       "    .dataframe tbody tr th:only-of-type {\n",
       "        vertical-align: middle;\n",
       "    }\n",
       "\n",
       "    .dataframe tbody tr th {\n",
       "        vertical-align: top;\n",
       "    }\n",
       "\n",
       "    .dataframe thead th {\n",
       "        text-align: right;\n",
       "    }\n",
       "</style>\n",
       "<table border=\"1\" class=\"dataframe\">\n",
       "  <thead>\n",
       "    <tr style=\"text-align: right;\">\n",
       "      <th></th>\n",
       "      <th>total_bill</th>\n",
       "      <th>tip</th>\n",
       "      <th>sex</th>\n",
       "      <th>smoker</th>\n",
       "      <th>day</th>\n",
       "      <th>time</th>\n",
       "      <th>size</th>\n",
       "    </tr>\n",
       "  </thead>\n",
       "  <tbody>\n",
       "    <tr>\n",
       "      <th>0</th>\n",
       "      <td>16.99</td>\n",
       "      <td>1.01</td>\n",
       "      <td>Female</td>\n",
       "      <td>No</td>\n",
       "      <td>Sun</td>\n",
       "      <td>Dinner</td>\n",
       "      <td>2</td>\n",
       "    </tr>\n",
       "    <tr>\n",
       "      <th>1</th>\n",
       "      <td>10.34</td>\n",
       "      <td>1.66</td>\n",
       "      <td>Male</td>\n",
       "      <td>No</td>\n",
       "      <td>Sun</td>\n",
       "      <td>Dinner</td>\n",
       "      <td>3</td>\n",
       "    </tr>\n",
       "    <tr>\n",
       "      <th>2</th>\n",
       "      <td>21.01</td>\n",
       "      <td>3.50</td>\n",
       "      <td>Male</td>\n",
       "      <td>No</td>\n",
       "      <td>Sun</td>\n",
       "      <td>Dinner</td>\n",
       "      <td>3</td>\n",
       "    </tr>\n",
       "    <tr>\n",
       "      <th>3</th>\n",
       "      <td>23.68</td>\n",
       "      <td>3.31</td>\n",
       "      <td>Male</td>\n",
       "      <td>No</td>\n",
       "      <td>Sun</td>\n",
       "      <td>Dinner</td>\n",
       "      <td>2</td>\n",
       "    </tr>\n",
       "    <tr>\n",
       "      <th>4</th>\n",
       "      <td>24.59</td>\n",
       "      <td>3.61</td>\n",
       "      <td>Female</td>\n",
       "      <td>No</td>\n",
       "      <td>Sun</td>\n",
       "      <td>Dinner</td>\n",
       "      <td>4</td>\n",
       "    </tr>\n",
       "  </tbody>\n",
       "</table>\n",
       "</div>"
      ],
      "text/plain": [
       "   total_bill   tip     sex smoker  day    time  size\n",
       "0       16.99  1.01  Female     No  Sun  Dinner     2\n",
       "1       10.34  1.66    Male     No  Sun  Dinner     3\n",
       "2       21.01  3.50    Male     No  Sun  Dinner     3\n",
       "3       23.68  3.31    Male     No  Sun  Dinner     2\n",
       "4       24.59  3.61  Female     No  Sun  Dinner     4"
      ]
     },
     "execution_count": 2,
     "metadata": {},
     "output_type": "execute_result"
    }
   ],
   "source": [
    "data_tips = sns.load_dataset('tips') \n",
    "data_tips.head(5)"
   ]
  },
  {
   "cell_type": "code",
   "execution_count": 3,
   "metadata": {},
   "outputs": [
    {
     "data": {
      "application/vnd.jupyter.widget-view+json": {
       "model_id": "a86ae8ab8fa5432f91e86db2f103723d",
       "version_major": 2,
       "version_minor": 0
      },
      "text/plain": [
       "interactive(children=(Dropdown(description='column: Column to be plotted', options=('total_bill', 'tip', 'sex'…"
      ]
     },
     "metadata": {},
     "output_type": "display_data"
    }
   ],
   "source": [
    "univariate_eda_interact(data_tips)"
   ]
  },
  {
   "cell_type": "code",
   "execution_count": 17,
   "metadata": {},
   "outputs": [
    {
     "data": {
      "application/vnd.jupyter.widget-view+json": {
       "model_id": "2aed3865e7a14eb3a56374c5773597fa",
       "version_major": 2,
       "version_minor": 0
      },
      "text/plain": [
       "interactive(children=(Dropdown(description='column1: Column to be plotted as independent variable', options=('…"
      ]
     },
     "metadata": {},
     "output_type": "display_data"
    }
   ],
   "source": [
    "bivariate_eda_interact(data_tips);"
   ]
  },
  {
   "cell_type": "markdown",
   "metadata": {},
   "source": [
    "# Example 2: GDPR Violations\n",
    "\n",
    "Our second example is a more involved dataset containing GDPR violations that was collected and shared as part of Tidy Tuesday.\n",
    "\n",
    "Be sure to check out unique functionality for the following columns:\n",
    "  - name: flipping orientation to allow readability of higher dim categorical variables\n",
    "  - price: log transformations to allow better visualization of skewed data \n",
    "  - summary: univariate eda for a text column \n",
    "  - article_violated: univariate eda for a list column "
   ]
  },
  {
   "cell_type": "code",
   "execution_count": 4,
   "metadata": {},
   "outputs": [
    {
     "data": {
      "text/html": [
       "<div>\n",
       "<style scoped>\n",
       "    .dataframe tbody tr th:only-of-type {\n",
       "        vertical-align: middle;\n",
       "    }\n",
       "\n",
       "    .dataframe tbody tr th {\n",
       "        vertical-align: top;\n",
       "    }\n",
       "\n",
       "    .dataframe thead th {\n",
       "        text-align: right;\n",
       "    }\n",
       "</style>\n",
       "<table border=\"1\" class=\"dataframe\">\n",
       "  <thead>\n",
       "    <tr style=\"text-align: right;\">\n",
       "      <th></th>\n",
       "      <th>id</th>\n",
       "      <th>picture</th>\n",
       "      <th>name</th>\n",
       "      <th>price</th>\n",
       "      <th>authority</th>\n",
       "      <th>date</th>\n",
       "      <th>controller</th>\n",
       "      <th>article_violated</th>\n",
       "      <th>type</th>\n",
       "      <th>source</th>\n",
       "      <th>summary</th>\n",
       "    </tr>\n",
       "  </thead>\n",
       "  <tbody>\n",
       "    <tr>\n",
       "      <th>0</th>\n",
       "      <td>1</td>\n",
       "      <td>https://www.privacyaffairs.com/wp-content/uplo...</td>\n",
       "      <td>Poland</td>\n",
       "      <td>9380</td>\n",
       "      <td>Polish National Personal Data Protection Offic...</td>\n",
       "      <td>2019-10-18</td>\n",
       "      <td>Polish Mayor</td>\n",
       "      <td>[Art. 28 GDPR]</td>\n",
       "      <td>Non-compliance with lawful basis for data proc...</td>\n",
       "      <td>https://uodo.gov.pl/decyzje/ZSPU.421.3.2019</td>\n",
       "      <td>No data processing agreement has been conclude...</td>\n",
       "    </tr>\n",
       "    <tr>\n",
       "      <th>1</th>\n",
       "      <td>2</td>\n",
       "      <td>https://www.privacyaffairs.com/wp-content/uplo...</td>\n",
       "      <td>Romania</td>\n",
       "      <td>2500</td>\n",
       "      <td>Romanian National Supervisory Authority for Pe...</td>\n",
       "      <td>2019-10-17</td>\n",
       "      <td>UTTIS INDUSTRIES</td>\n",
       "      <td>[Art. 12 GDPR, Art. 13 GDPR, Art. 5 (1) c) GDP...</td>\n",
       "      <td>Information obligation non-compliance</td>\n",
       "      <td>https://www.dataprotection.ro/?page=A_patra_am...</td>\n",
       "      <td>A controller was sanctioned because he had unl...</td>\n",
       "    </tr>\n",
       "    <tr>\n",
       "      <th>2</th>\n",
       "      <td>3</td>\n",
       "      <td>https://www.privacyaffairs.com/wp-content/uplo...</td>\n",
       "      <td>Spain</td>\n",
       "      <td>60000</td>\n",
       "      <td>Spanish Data Protection Authority (AEPD)</td>\n",
       "      <td>2019-10-16</td>\n",
       "      <td>Xfera Moviles S.A.</td>\n",
       "      <td>[Art. 5 GDPR, Art. 6 GDPR]</td>\n",
       "      <td>Non-compliance with lawful basis for data proc...</td>\n",
       "      <td>https://www.aepd.es/resoluciones/PS-00262-2019...</td>\n",
       "      <td>The company had unlawfully processed the perso...</td>\n",
       "    </tr>\n",
       "    <tr>\n",
       "      <th>3</th>\n",
       "      <td>4</td>\n",
       "      <td>https://www.privacyaffairs.com/wp-content/uplo...</td>\n",
       "      <td>Spain</td>\n",
       "      <td>8000</td>\n",
       "      <td>Spanish Data Protection Authority (AEPD)</td>\n",
       "      <td>2019-10-16</td>\n",
       "      <td>Iberdrola Clientes</td>\n",
       "      <td>[Art. 31 GDPR]</td>\n",
       "      <td>Failure to cooperate with supervisory authority</td>\n",
       "      <td>https://www.aepd.es/resoluciones/PS-00304-2019...</td>\n",
       "      <td>Iberdrola Clientes violated Article 13 of the ...</td>\n",
       "    </tr>\n",
       "    <tr>\n",
       "      <th>4</th>\n",
       "      <td>5</td>\n",
       "      <td>https://www.privacyaffairs.com/wp-content/uplo...</td>\n",
       "      <td>Romania</td>\n",
       "      <td>150000</td>\n",
       "      <td>Romanian National Supervisory Authority for Pe...</td>\n",
       "      <td>2019-10-09</td>\n",
       "      <td>Raiffeisen Bank SA</td>\n",
       "      <td>[Art. 32 GDPR]</td>\n",
       "      <td>Failure to implement sufficient measures to en...</td>\n",
       "      <td>https://www.dataprotection.ro/?page=Comunicat_...</td>\n",
       "      <td>Raiffeisen Bank Romania did not observe the ne...</td>\n",
       "    </tr>\n",
       "  </tbody>\n",
       "</table>\n",
       "</div>"
      ],
      "text/plain": [
       "   id                                            picture     name   price  \\\n",
       "0   1  https://www.privacyaffairs.com/wp-content/uplo...   Poland    9380   \n",
       "1   2  https://www.privacyaffairs.com/wp-content/uplo...  Romania    2500   \n",
       "2   3  https://www.privacyaffairs.com/wp-content/uplo...    Spain   60000   \n",
       "3   4  https://www.privacyaffairs.com/wp-content/uplo...    Spain    8000   \n",
       "4   5  https://www.privacyaffairs.com/wp-content/uplo...  Romania  150000   \n",
       "\n",
       "                                           authority       date  \\\n",
       "0  Polish National Personal Data Protection Offic... 2019-10-18   \n",
       "1  Romanian National Supervisory Authority for Pe... 2019-10-17   \n",
       "2           Spanish Data Protection Authority (AEPD) 2019-10-16   \n",
       "3           Spanish Data Protection Authority (AEPD) 2019-10-16   \n",
       "4  Romanian National Supervisory Authority for Pe... 2019-10-09   \n",
       "\n",
       "           controller                                   article_violated  \\\n",
       "0        Polish Mayor                                     [Art. 28 GDPR]   \n",
       "1    UTTIS INDUSTRIES  [Art. 12 GDPR, Art. 13 GDPR, Art. 5 (1) c) GDP...   \n",
       "2  Xfera Moviles S.A.                         [Art. 5 GDPR, Art. 6 GDPR]   \n",
       "3  Iberdrola Clientes                                     [Art. 31 GDPR]   \n",
       "4  Raiffeisen Bank SA                                     [Art. 32 GDPR]   \n",
       "\n",
       "                                                type  \\\n",
       "0  Non-compliance with lawful basis for data proc...   \n",
       "1              Information obligation non-compliance   \n",
       "2  Non-compliance with lawful basis for data proc...   \n",
       "3    Failure to cooperate with supervisory authority   \n",
       "4  Failure to implement sufficient measures to en...   \n",
       "\n",
       "                                              source  \\\n",
       "0        https://uodo.gov.pl/decyzje/ZSPU.421.3.2019   \n",
       "1  https://www.dataprotection.ro/?page=A_patra_am...   \n",
       "2  https://www.aepd.es/resoluciones/PS-00262-2019...   \n",
       "3  https://www.aepd.es/resoluciones/PS-00304-2019...   \n",
       "4  https://www.dataprotection.ro/?page=Comunicat_...   \n",
       "\n",
       "                                             summary  \n",
       "0  No data processing agreement has been conclude...  \n",
       "1  A controller was sanctioned because he had unl...  \n",
       "2  The company had unlawfully processed the perso...  \n",
       "3  Iberdrola Clientes violated Article 13 of the ...  \n",
       "4  Raiffeisen Bank Romania did not observe the ne...  "
      ]
     },
     "execution_count": 4,
     "metadata": {},
     "output_type": "execute_result"
    }
   ],
   "source": [
    "data_gdpr = pd.read_csv(\n",
    "    \"https://raw.githubusercontent.com/rfordatascience/tidytuesday/master/data/2020/2020-04-21/gdpr_violations.tsv\", \n",
    "    sep='\\t')\n",
    "\n",
    "# convert everything to proper type\n",
    "data_gdpr = data_gdpr.astype({\n",
    "    'date': 'datetime64[ns]',\n",
    "    'name': 'category',\n",
    "    'summary': 'string',\n",
    "    'controller': 'category',\n",
    "    'article_violated': 'string',\n",
    "    'source': 'category',\n",
    "    'authority': 'category',\n",
    "    'picture': 'category',\n",
    "    'type': 'category'\n",
    "});\n",
    "\n",
    "# make a list column rather than str\n",
    "data_gdpr['article_violated'] = data_gdpr['article_violated'].apply(lambda x: x.split('|'))\n",
    "data_gdpr.head(5)"
   ]
  },
  {
   "cell_type": "code",
   "execution_count": 5,
   "metadata": {},
   "outputs": [
    {
     "data": {
      "application/vnd.jupyter.widget-view+json": {
       "model_id": "8d57d6daf31e43728a150079fbe61892",
       "version_major": 2,
       "version_minor": 0
      },
      "text/plain": [
       "interactive(children=(Dropdown(description='column: Column to be plotted', options=('id', 'picture', 'name', '…"
      ]
     },
     "metadata": {},
     "output_type": "display_data"
    }
   ],
   "source": [
    "univariate_eda_interact(data_gdpr)"
   ]
  },
  {
   "cell_type": "code",
   "execution_count": 6,
   "metadata": {},
   "outputs": [
    {
     "data": {
      "application/vnd.jupyter.widget-view+json": {
       "model_id": "862a338135ef4a4b81e3ea530fc855a1",
       "version_major": 2,
       "version_minor": 0
      },
      "text/plain": [
       "interactive(children=(Dropdown(description='column1: Column to be plotted as independent variable', options=('…"
      ]
     },
     "metadata": {},
     "output_type": "display_data"
    },
    {
     "data": {
      "application/vnd.jupyter.widget-view+json": {
       "model_id": "862a338135ef4a4b81e3ea530fc855a1",
       "version_major": 2,
       "version_minor": 0
      },
      "text/plain": [
       "interactive(children=(Dropdown(description='column1: Column to be plotted as independent variable', options=('…"
      ]
     },
     "metadata": {},
     "output_type": "display_data"
    }
   ],
   "source": [
    "bivariate_eda_interact(data_gdpr)"
   ]
  },
  {
   "cell_type": "markdown",
   "metadata": {},
   "source": [
    "# Example 3: Trump Tweets"
   ]
  },
  {
   "cell_type": "code",
   "execution_count": 6,
   "metadata": {},
   "outputs": [
    {
     "data": {
      "text/html": [
       "<div>\n",
       "<style scoped>\n",
       "    .dataframe tbody tr th:only-of-type {\n",
       "        vertical-align: middle;\n",
       "    }\n",
       "\n",
       "    .dataframe tbody tr th {\n",
       "        vertical-align: top;\n",
       "    }\n",
       "\n",
       "    .dataframe thead th {\n",
       "        text-align: right;\n",
       "    }\n",
       "</style>\n",
       "<table border=\"1\" class=\"dataframe\">\n",
       "  <thead>\n",
       "    <tr style=\"text-align: right;\">\n",
       "      <th></th>\n",
       "      <th>id</th>\n",
       "      <th>link</th>\n",
       "      <th>content</th>\n",
       "      <th>date</th>\n",
       "      <th>retweets</th>\n",
       "      <th>favorites</th>\n",
       "      <th>mentions</th>\n",
       "      <th>hashtags</th>\n",
       "    </tr>\n",
       "  </thead>\n",
       "  <tbody>\n",
       "    <tr>\n",
       "      <th>0</th>\n",
       "      <td>1698308935</td>\n",
       "      <td>https://twitter.com/realDonaldTrump/status/169...</td>\n",
       "      <td>Be sure to tune in and watch Donald Trump on L...</td>\n",
       "      <td>2009-05-04 13:54:25</td>\n",
       "      <td>510</td>\n",
       "      <td>917</td>\n",
       "      <td>&lt;NA&gt;</td>\n",
       "      <td>&lt;NA&gt;</td>\n",
       "    </tr>\n",
       "    <tr>\n",
       "      <th>1</th>\n",
       "      <td>1701461182</td>\n",
       "      <td>https://twitter.com/realDonaldTrump/status/170...</td>\n",
       "      <td>Donald Trump will be appearing on The View tom...</td>\n",
       "      <td>2009-05-04 20:00:10</td>\n",
       "      <td>34</td>\n",
       "      <td>267</td>\n",
       "      <td>&lt;NA&gt;</td>\n",
       "      <td>&lt;NA&gt;</td>\n",
       "    </tr>\n",
       "    <tr>\n",
       "      <th>2</th>\n",
       "      <td>1737479987</td>\n",
       "      <td>https://twitter.com/realDonaldTrump/status/173...</td>\n",
       "      <td>Donald Trump reads Top Ten Financial Tips on L...</td>\n",
       "      <td>2009-05-08 08:38:08</td>\n",
       "      <td>13</td>\n",
       "      <td>19</td>\n",
       "      <td>&lt;NA&gt;</td>\n",
       "      <td>&lt;NA&gt;</td>\n",
       "    </tr>\n",
       "    <tr>\n",
       "      <th>3</th>\n",
       "      <td>1741160716</td>\n",
       "      <td>https://twitter.com/realDonaldTrump/status/174...</td>\n",
       "      <td>New Blog Post: Celebrity Apprentice Finale and...</td>\n",
       "      <td>2009-05-08 15:40:15</td>\n",
       "      <td>11</td>\n",
       "      <td>26</td>\n",
       "      <td>&lt;NA&gt;</td>\n",
       "      <td>&lt;NA&gt;</td>\n",
       "    </tr>\n",
       "    <tr>\n",
       "      <th>4</th>\n",
       "      <td>1773561338</td>\n",
       "      <td>https://twitter.com/realDonaldTrump/status/177...</td>\n",
       "      <td>\"My persona will never be that of a wallflower...</td>\n",
       "      <td>2009-05-12 09:07:28</td>\n",
       "      <td>1375</td>\n",
       "      <td>1945</td>\n",
       "      <td>&lt;NA&gt;</td>\n",
       "      <td>&lt;NA&gt;</td>\n",
       "    </tr>\n",
       "  </tbody>\n",
       "</table>\n",
       "</div>"
      ],
      "text/plain": [
       "           id                                               link  \\\n",
       "0  1698308935  https://twitter.com/realDonaldTrump/status/169...   \n",
       "1  1701461182  https://twitter.com/realDonaldTrump/status/170...   \n",
       "2  1737479987  https://twitter.com/realDonaldTrump/status/173...   \n",
       "3  1741160716  https://twitter.com/realDonaldTrump/status/174...   \n",
       "4  1773561338  https://twitter.com/realDonaldTrump/status/177...   \n",
       "\n",
       "                                             content                date  \\\n",
       "0  Be sure to tune in and watch Donald Trump on L... 2009-05-04 13:54:25   \n",
       "1  Donald Trump will be appearing on The View tom... 2009-05-04 20:00:10   \n",
       "2  Donald Trump reads Top Ten Financial Tips on L... 2009-05-08 08:38:08   \n",
       "3  New Blog Post: Celebrity Apprentice Finale and... 2009-05-08 15:40:15   \n",
       "4  \"My persona will never be that of a wallflower... 2009-05-12 09:07:28   \n",
       "\n",
       "   retweets  favorites mentions hashtags  \n",
       "0       510        917     <NA>     <NA>  \n",
       "1        34        267     <NA>     <NA>  \n",
       "2        13         19     <NA>     <NA>  \n",
       "3        11         26     <NA>     <NA>  \n",
       "4      1375       1945     <NA>     <NA>  "
      ]
     },
     "execution_count": 6,
     "metadata": {},
     "output_type": "execute_result"
    }
   ],
   "source": [
    "data_trump = pd.read_csv('data/raw/trump_tweets.csv')\n",
    "data_trump = data_trump.astype({\n",
    "    'date': 'datetime64[ns]',\n",
    "    'content': 'string',\n",
    "    'mentions': 'string',\n",
    "    'hashtags': 'string'\n",
    "});\n",
    "data_trump['mentions'] = data_trump['mentions'].apply(lambda x: x.split(',') if not pd.isnull(x) else x)\n",
    "data_trump['hashtags'] = data_trump['hashtags'].apply(lambda x: x.split(',') if not pd.isnull(x) else x)\n",
    "data_trump.head(5)"
   ]
  },
  {
   "cell_type": "code",
   "execution_count": 7,
   "metadata": {},
   "outputs": [
    {
     "data": {
      "application/vnd.jupyter.widget-view+json": {
       "model_id": "ebc8cf01e0f442a899d76abf0d183d64",
       "version_major": 2,
       "version_minor": 0
      },
      "text/plain": [
       "interactive(children=(Dropdown(description='column: Column to be plotted', options=('id', 'link', 'content', '…"
      ]
     },
     "metadata": {},
     "output_type": "display_data"
    }
   ],
   "source": [
    "univariate_eda_interact(data_trump)"
   ]
  },
  {
   "cell_type": "code",
   "execution_count": null,
   "metadata": {},
   "outputs": [],
   "source": []
  }
 ],
 "metadata": {
  "kernelspec": {
   "display_name": "Python 3",
   "language": "python",
   "name": "python3"
  },
  "language_info": {
   "codemirror_mode": {
    "name": "ipython",
    "version": 3
   },
   "file_extension": ".py",
   "mimetype": "text/x-python",
   "name": "python",
   "nbconvert_exporter": "python",
   "pygments_lexer": "ipython3",
   "version": "3.7.6"
  }
 },
 "nbformat": 4,
 "nbformat_minor": 4
}
