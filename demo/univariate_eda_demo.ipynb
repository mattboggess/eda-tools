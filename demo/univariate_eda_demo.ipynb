{
 "cells": [
  {
   "cell_type": "code",
   "execution_count": null,
   "metadata": {},
   "outputs": [],
   "source": [
    "%load_ext autoreload\n",
    "%autoreload 2\n",
    "from intedact import univariate_eda_interact\n",
    "import pandas as pd\n",
    "import seaborn as sns\n",
    "from IPython.display import display\n",
    "import ipywidgets as widgets\n",
    "\n",
    "# Make it so output doesn't collapse\n",
    "style = \"\"\"\n",
    "    <style>\n",
    "       .jupyter-widgets-output-area .output_scroll {\n",
    "            height: unset !important;\n",
    "            border-radius: unset !important;\n",
    "            -webkit-box-shadow: unset !important;\n",
    "            box-shadow: unset !important;\n",
    "        }\n",
    "        .jupyter-widgets-output-area  {\n",
    "            height: auto !important;\n",
    "        }\n",
    "    </style>\n",
    "    \"\"\"\n",
    "display(widgets.HTML(style))"
   ]
  },
  {
   "cell_type": "code",
   "execution_count": null,
   "metadata": {},
   "outputs": [],
   "source": [
    "# These are needed for text summaries\n",
    "import nltk\n",
    "nltk.download('punkt')\n",
    "nltk.download('stopwords')"
   ]
  },
  {
   "cell_type": "markdown",
   "metadata": {},
   "source": [
    "# Example 1: Diamonds Dataset\n",
    "\n",
    "The first example we will use is the classic diamonds dataset packaged with ggplot as well as seaborn. This first example is great for getting introduced to the basic discrete and continuous summaries.\n",
    "\n",
    "Recommended Explorations:\n",
    "  - Try playing with number of bins on carat\n",
    "  - Try removing outliers for the x, y, and z variables"
   ]
  },
  {
   "cell_type": "code",
   "execution_count": null,
   "metadata": {},
   "outputs": [],
   "source": [
    "data = sns.load_dataset(\"diamonds\")\n",
    "data[\"cut\"] = pd.Categorical(data[\"cut\"], categories=[\"Fair\", \"Good\", \"Very Good\", \"Premium\", \"Ideal\"], ordered=True)\n",
    "data[\"color\"] = pd.Categorical(data[\"color\"], categories=[\"D\", \"E\", \"F\", \"G\", \"H\", \"I\", \"J\"], ordered=True)\n",
    "data[\"clarity\"] = pd.Categorical(data[\"clarity\"], categories=[\"I1\", \"SI1\", \"SI2\", \"VS2\", \"VS1\", \"VVS2\", \"VVS1\", \"IF\"], ordered=True)"
   ]
  },
  {
   "cell_type": "code",
   "execution_count": null,
   "metadata": {},
   "outputs": [],
   "source": [
    "univariate_eda_interact(data, notes_file=\"tmp.json\", figure_dir=\".\")"
   ]
  },
  {
   "cell_type": "markdown",
   "metadata": {},
   "source": [
    "# Example 2: Tidy Tuesday GDPR Violations\n",
    "\n",
    "Recommended Explorations:\n",
    "- Try using a log transform on the price column.\n",
    "- Check out the date column for an example of a datetime summary. Try setting the Lower Trim option to 20 so you can see the main time series.\n",
    "- Check out the summary column for an example of a text summary. By default, doesn't compute top ngrams so you can check the 'Plot most common ngrams' option to plot the top unigrams-trigrams. Also, since text tokenizing can be time consuming, it turns auto updating off so you have to press the 'Run Interact' button to update the summary when control options are changed.\n",
    "- Check out the article_violated column for an example of a collections summary\n",
    "- Check out the source column for an example of a url summary\n"
   ]
  },
  {
   "cell_type": "code",
   "execution_count": null,
   "metadata": {},
   "outputs": [],
   "source": [
    "data = pd.read_csv(\"https://raw.githubusercontent.com/rfordatascience/tidytuesday/master/data/2020/2020-04-21/gdpr_violations.tsv\", sep=\"\\t\")\n",
    "data[\"date\"] = pd.to_datetime(data[\"date\"])\n",
    "data[\"article_violated\"] = data[\"article_violated\"].apply(lambda x: x.split(\"|\"))"
   ]
  },
  {
   "cell_type": "code",
   "execution_count": null,
   "metadata": {},
   "outputs": [],
   "source": [
    "univariate_eda_interact(data)"
   ]
  },
  {
   "cell_type": "code",
   "execution_count": null,
   "metadata": {},
   "outputs": [],
   "source": []
  }
 ],
 "metadata": {
  "kernelspec": {
   "display_name": "intedact",
   "language": "python",
   "name": "intedact"
  },
  "language_info": {
   "codemirror_mode": {
    "name": "ipython",
    "version": 3
   },
   "file_extension": ".py",
   "mimetype": "text/x-python",
   "name": "python",
   "nbconvert_exporter": "python",
   "pygments_lexer": "ipython3",
   "version": "3.9.1"
  }
 },
 "nbformat": 4,
 "nbformat_minor": 4
}
